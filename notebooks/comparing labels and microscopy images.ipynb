{
 "cells": [
  {
   "cell_type": "markdown",
   "id": "608f9cc0",
   "metadata": {},
   "source": [
    "# Visualization comparing structure labels to microscopy image volumes\n",
    "\n",
    "The viewer supports rotations, variable resolution and slicing."
   ]
  },
  {
   "cell_type": "code",
   "execution_count": null,
   "id": "b8db1f84",
   "metadata": {},
   "outputs": [],
   "source": [
    "# Load labels and image volumes\n",
    "from array_gizmos import rot3d_gizmos\n",
    "import numpy as np\n",
    "\n",
    "fn = \"labels_and_image.npz\"\n",
    "D = np.load(fn)\n",
    "\n",
    "image = D[\"img\"]\n",
    "labels = D[\"labels\"]\n",
    "image.shape, labels.shape"
   ]
  },
  {
   "cell_type": "code",
   "execution_count": null,
   "id": "09f5d4bc",
   "metadata": {},
   "outputs": [],
   "source": [
    "np.unique(labels)"
   ]
  },
  {
   "cell_type": "code",
   "execution_count": null,
   "id": "d206b293",
   "metadata": {},
   "outputs": [],
   "source": [
    "# Create the viewer object\n",
    "ALI = rot3d_gizmos.AdjustableLabelsAndImage(labels, image)"
   ]
  },
  {
   "cell_type": "code",
   "execution_count": null,
   "id": "9ffca510",
   "metadata": {},
   "outputs": [],
   "source": [
    "# Start the visualization in a separate window or tab\n",
    "await ALI.gizmo()"
   ]
  },
  {
   "cell_type": "code",
   "execution_count": null,
   "id": "8be80499",
   "metadata": {},
   "outputs": [],
   "source": []
  }
 ],
 "metadata": {
  "kernelspec": {
   "display_name": "Python 3",
   "language": "python",
   "name": "python3"
  },
  "language_info": {
   "codemirror_mode": {
    "name": "ipython",
    "version": 3
   },
   "file_extension": ".py",
   "mimetype": "text/x-python",
   "name": "python",
   "nbconvert_exporter": "python",
   "pygments_lexer": "ipython3",
   "version": "3.6.8"
  }
 },
 "nbformat": 4,
 "nbformat_minor": 5
}
